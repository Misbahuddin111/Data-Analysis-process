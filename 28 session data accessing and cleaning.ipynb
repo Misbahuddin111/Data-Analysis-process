{
 "cells": [
  {
   "cell_type": "code",
   "execution_count": null,
   "id": "0d3666e1",
   "metadata": {},
   "outputs": [],
   "source": [
    "import pandas as pd\n",
    "import numpy as np\n",
    "import requests"
   ]
  },
  {
   "cell_type": "code",
   "execution_count": null,
   "id": "095e3624",
   "metadata": {},
   "outputs": [],
   "source": [
    "\n",
    "patients=pd.read_csv('datasets/patients.csv')\n",
    "treatments=pd.read_csv('datasets/treatments.csv')\n",
    "treatments_cut=pd.read_csv('datasets/treatments_cut.csv')\n",
    "adverse_reaction=pd.read_csv('datasets/adverse_reactions.csv')\n"
   ]
  },
  {
   "cell_type": "code",
   "execution_count": null,
   "id": "d42c9ee9",
   "metadata": {},
   "outputs": [],
   "source": [
    "# fill miss values\n",
    "patients.fillna(\"data missing\",inplace=True)\n",
    "patients.info()\n"
   ]
  },
  {
   "cell_type": "code",
   "execution_count": null,
   "id": "fafee94b",
   "metadata": {},
   "outputs": [],
   "source": [
    "# columns rename \n",
    "patients.rename(columns={'given_name':'first_name'},inplace=True)\n",
    "patients\n"
   ]
  },
  {
   "cell_type": "code",
   "execution_count": null,
   "id": "4b09e196",
   "metadata": {},
   "outputs": [],
   "source": [
    "treatments.head()\n",
    "\n"
   ]
  },
  {
   "cell_type": "code",
   "execution_count": null,
   "id": "07f56c88",
   "metadata": {},
   "outputs": [],
   "source": [
    "patients[patients['address'].isnull()]"
   ]
  },
  {
   "cell_type": "code",
   "execution_count": null,
   "id": "894e7467",
   "metadata": {},
   "outputs": [],
   "source": [
    "treatments[treatments.duplicated()]"
   ]
  },
  {
   "cell_type": "code",
   "execution_count": null,
   "id": "0a922ca4",
   "metadata": {},
   "outputs": [],
   "source": [
    "treatments_cut.head()"
   ]
  },
  {
   "cell_type": "code",
   "execution_count": null,
   "id": "9a7d1d89",
   "metadata": {},
   "outputs": [],
   "source": [
    "adverse_reaction.head()"
   ]
  },
  {
   "cell_type": "code",
   "execution_count": null,
   "id": "4923dea1",
   "metadata": {},
   "outputs": [],
   "source": [
    "with pd.ExcelWriter('clinical_trials.xlsx') as writer:\n",
    "    patients.to_excel(writer,sheet_name='patients')\n",
    "    treatments.to_excel(writer,sheet_name='treatments')\n",
    "    treatments_cut.to_excel(writer,sheet_name='treatments_cut')\n",
    "    adverse_reaction.to_excel(writer,sheet_name='adverse_reaction')"
   ]
  }
 ],
 "metadata": {
  "kernelspec": {
   "display_name": "Python 3",
   "language": "python",
   "name": "python3"
  },
  "language_info": {
   "codemirror_mode": {
    "name": "ipython",
    "version": 3
   },
   "file_extension": ".py",
   "mimetype": "text/x-python",
   "name": "python",
   "nbconvert_exporter": "python",
   "pygments_lexer": "ipython3",
   "version": "3.11.9"
  }
 },
 "nbformat": 4,
 "nbformat_minor": 5
}
