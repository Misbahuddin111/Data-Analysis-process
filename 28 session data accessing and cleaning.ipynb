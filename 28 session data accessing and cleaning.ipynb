{
 "cells": [
  {
   "cell_type": "code",
   "execution_count": null,
   "id": "0d3666e1",
   "metadata": {},
   "outputs": [],
   "source": [
    "import pandas as pd\n",
    "import numpy as np\n",
    "import requests"
   ]
  },
  {
   "cell_type": "code",
   "execution_count": null,
   "id": "095e3624",
   "metadata": {},
   "outputs": [],
   "source": [
    "\n",
    "patients=pd.read_csv('datasets/patients.csv')\n",
    "treatments=pd.read_csv('datasets/treatments.csv')\n",
    "treatments_cut=pd.read_csv('datasets/treatments_cut.csv')\n",
    "adverse_reaction=pd.read_csv('datasets/adverse_reactions.csv')\n"
   ]
  },
  {
   "cell_type": "code",
   "execution_count": null,
   "id": "fafee94b",
   "metadata": {},
   "outputs": [],
   "source": [
    "patients.head(20)"
   ]
  },
  {
   "cell_type": "code",
   "execution_count": null,
   "id": "4b09e196",
   "metadata": {},
   "outputs": [],
   "source": [
    "treatments.head()\n"
   ]
  },
  {
   "cell_type": "markdown",
   "id": "7e9b1b81",
   "metadata": {},
   "source": [
    "-patients table\n",
    "   12 missing values in \taddress\tcity\tstate\tzip_code\tcountry\tcontact columns **completeness\n",
    "   \n",
    "     \n",
    "  "
   ]
  },
  {
   "cell_type": "code",
   "execution_count": null,
   "id": "07f56c88",
   "metadata": {},
   "outputs": [],
   "source": [
    "patients[patients['address'].isnull()]"
   ]
  },
  {
   "cell_type": "code",
   "execution_count": 16,
   "id": "894e7467",
   "metadata": {},
   "outputs": [
    {
     "data": {
      "text/html": [
       "<div>\n",
       "<style scoped>\n",
       "    .dataframe tbody tr th:only-of-type {\n",
       "        vertical-align: middle;\n",
       "    }\n",
       "\n",
       "    .dataframe tbody tr th {\n",
       "        vertical-align: top;\n",
       "    }\n",
       "\n",
       "    .dataframe thead th {\n",
       "        text-align: right;\n",
       "    }\n",
       "</style>\n",
       "<table border=\"1\" class=\"dataframe\">\n",
       "  <thead>\n",
       "    <tr style=\"text-align: right;\">\n",
       "      <th></th>\n",
       "      <th>given_name</th>\n",
       "      <th>surname</th>\n",
       "      <th>auralin</th>\n",
       "      <th>novodra</th>\n",
       "      <th>hba1c_start</th>\n",
       "      <th>hba1c_end</th>\n",
       "      <th>hba1c_change</th>\n",
       "    </tr>\n",
       "  </thead>\n",
       "  <tbody>\n",
       "    <tr>\n",
       "      <th>136</th>\n",
       "      <td>joseph</td>\n",
       "      <td>day</td>\n",
       "      <td>29u - 36u</td>\n",
       "      <td>-</td>\n",
       "      <td>7.7</td>\n",
       "      <td>7.19</td>\n",
       "      <td>NaN</td>\n",
       "    </tr>\n",
       "  </tbody>\n",
       "</table>\n",
       "</div>"
      ],
      "text/plain": [
       "    given_name surname    auralin novodra  hba1c_start  hba1c_end  \\\n",
       "136     joseph     day  29u - 36u       -          7.7       7.19   \n",
       "\n",
       "     hba1c_change  \n",
       "136           NaN  "
      ]
     },
     "execution_count": 16,
     "metadata": {},
     "output_type": "execute_result"
    }
   ],
   "source": [
    "treatments[treatments.duplicated()]"
   ]
  },
  {
   "cell_type": "code",
   "execution_count": null,
   "id": "0a922ca4",
   "metadata": {},
   "outputs": [],
   "source": [
    "treatments_cut.head()"
   ]
  },
  {
   "cell_type": "code",
   "execution_count": null,
   "id": "9a7d1d89",
   "metadata": {},
   "outputs": [],
   "source": [
    "adverse_reaction.head()"
   ]
  },
  {
   "cell_type": "code",
   "execution_count": null,
   "id": "4923dea1",
   "metadata": {},
   "outputs": [],
   "source": [
    "with pd.ExcelWriter('clinical_trials.xlsx') as writer:\n",
    "    patients.to_excel(writer,sheet_name='patients')\n",
    "    treatments.to_excel(writer,sheet_name='treatments')\n",
    "    treatments_cut.to_excel(writer,sheet_name='treatments_cut')\n",
    "    adverse_reaction.to_excel(writer,sheet_name='adverse_reaction')"
   ]
  }
 ],
 "metadata": {
  "kernelspec": {
   "display_name": "Python 3",
   "language": "python",
   "name": "python3"
  },
  "language_info": {
   "codemirror_mode": {
    "name": "ipython",
    "version": 3
   },
   "file_extension": ".py",
   "mimetype": "text/x-python",
   "name": "python",
   "nbconvert_exporter": "python",
   "pygments_lexer": "ipython3",
   "version": "3.11.9"
  }
 },
 "nbformat": 4,
 "nbformat_minor": 5
}
