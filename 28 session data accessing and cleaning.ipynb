{
 "cells": [
  {
   "cell_type": "code",
   "execution_count": null,
   "id": "0d3666e1",
   "metadata": {},
   "outputs": [],
   "source": [
    "import pandas as pd\n",
    "import numpy as np\n",
    "import requests"
   ]
  },
  {
   "cell_type": "code",
   "execution_count": null,
   "id": "095e3624",
   "metadata": {},
   "outputs": [],
   "source": [
    "\n",
    "patients=pd.read_csv('datasets/patients.csv')\n",
    "treatments=pd.read_csv('datasets/treatments.csv')\n",
    "treatments_cut=pd.read_csv('datasets/treatments_cut.csv')\n",
    "adverse_reaction=pd.read_csv('datasets/adverse_reactions.csv')\n"
   ]
  },
  {
   "cell_type": "code",
   "execution_count": null,
   "id": "76f41db9",
   "metadata": {},
   "outputs": [],
   "source": []
  },
  {
   "cell_type": "code",
   "execution_count": null,
   "id": "fafee94b",
   "metadata": {},
   "outputs": [],
   "source": [
    "patients.head()"
   ]
  },
  {
   "cell_type": "code",
   "execution_count": null,
   "id": "4b09e196",
   "metadata": {},
   "outputs": [],
   "source": [
    "treatments.head()"
   ]
  },
  {
   "cell_type": "code",
   "execution_count": null,
   "id": "0a922ca4",
   "metadata": {},
   "outputs": [],
   "source": [
    "treatments_cut.head()"
   ]
  },
  {
   "cell_type": "code",
   "execution_count": null,
   "id": "9a7d1d89",
   "metadata": {},
   "outputs": [],
   "source": [
    "adverse_reaction.head()"
   ]
  }
 ],
 "metadata": {
  "kernelspec": {
   "display_name": "Python 3",
   "language": "python",
   "name": "python3"
  },
  "language_info": {
   "codemirror_mode": {
    "name": "ipython",
    "version": 3
   },
   "file_extension": ".py",
   "mimetype": "text/x-python",
   "name": "python",
   "nbconvert_exporter": "python",
   "pygments_lexer": "ipython3",
   "version": "3.11.9"
  }
 },
 "nbformat": 4,
 "nbformat_minor": 5
}
