{
 "cells": [
  {
   "cell_type": "code",
   "execution_count": null,
   "id": "cc1112bb",
   "metadata": {},
   "outputs": [],
   "source": [
    "import pandas as pd\n",
    "import requests\n",
    "from io import StringIO"
   ]
  },
  {
   "cell_type": "code",
   "execution_count": null,
   "id": "10d04866",
   "metadata": {},
   "outputs": [],
   "source": [
    "import requests\n",
    "import pandas as pd\n",
    "from io import StringIO\n",
    "\n",
    "# The URL of the raw CSV file\n",
    "url = 'https://raw.githubusercontent.com/campusx-official/100-days-of-machine-learning/main/day15%20-%20working%20with%20csv%20files/aug_train.csv'\n",
    "\n",
    "# Download the file content\n",
    "response = requests.get(url)\n",
    "\n",
    "# Check if the download was successful\n",
    "if response.status_code == 200:\n",
    "    # Read the CSV data into a pandas DataFrame\n",
    "    df = pd.read_csv(StringIO(response.text))  # Use response.text, not url.text\n",
    "    print(df.head())  # Show the first 5 rows\n",
    "else:\n",
    "    print(f\"Failed to download the file. Status code: {response.status_code}\")"
   ]
  },
  {
   "cell_type": "markdown",
   "id": "a77f746c",
   "metadata": {},
   "source": [
    "sep parameter\n",
    "Description: Specifies the delimiter used in the CSV file (default: ,)."
   ]
  },
  {
   "cell_type": "code",
   "execution_count": null,
   "id": "53d624ca",
   "metadata": {},
   "outputs": [],
   "source": [
    "# sep parameter\n"
   ]
  },
  {
   "cell_type": "code",
   "execution_count": null,
   "id": "0e5e2b2c",
   "metadata": {},
   "outputs": [],
   "source": [
    "\n",
    "# index_col perameter ( you can set the index by index_col parameter)\n",
    "df =pd.read_csv('datasets/aug_train.csv',index_col='enrollee_id')\n"
   ]
  },
  {
   "cell_type": "code",
   "execution_count": null,
   "id": "87feccd6",
   "metadata": {},
   "outputs": [],
   "source": [
    "# header parameter\n",
    "pd.read_csv('datasets/test.csv',header=1)"
   ]
  },
  {
   "cell_type": "code",
   "execution_count": null,
   "id": "3db05edd",
   "metadata": {},
   "outputs": [],
   "source": [
    "# usecols parameter  ( filter the selective columns you want )\n",
    "pd.read_csv('datasets/aug_train.csv',usecols=['enrollee_id','gender','education_level'])\n"
   ]
  },
  {
   "cell_type": "code",
   "execution_count": null,
   "id": "37caa18c",
   "metadata": {},
   "outputs": [],
   "source": [
    "#  skiprows and nrows (skiprows skip the rows gven in the output) and (nrows generate the no of rows you want to generate)\n",
    "pd.read_csv('datasets/aug_train.csv',skiprows=[0,1])\n",
    "pd.read_csv('datasets/aug_train.csv',nrows=150)"
   ]
  },
  {
   "cell_type": "code",
   "execution_count": null,
   "id": "6b9f4c1a",
   "metadata": {},
   "outputs": [],
   "source": [
    "# encoding\n",
    "pd.read_csv('datasets/zomato.csv',encoding='latin-1')"
   ]
  },
  {
   "cell_type": "code",
   "execution_count": null,
   "id": "20592a70",
   "metadata": {},
   "outputs": [],
   "source": [
    "#on_bad_lines\n",
    "pd.read_csv('datasets/zomato.csv',encoding='latin-1',sep=';',on_bad_lines=False)"
   ]
  },
  {
   "cell_type": "code",
   "execution_count": null,
   "id": "8f1e23d5",
   "metadata": {},
   "outputs": [],
   "source": [
    "# convertors\n",
    "#na_values\n",
    "# chunke size\n",
    "# parse_date"
   ]
  },
  {
   "cell_type": "code",
   "execution_count": null,
   "id": "671f9fcf",
   "metadata": {},
   "outputs": [],
   "source": []
  }
 ],
 "metadata": {
  "kernelspec": {
   "display_name": "Python 3",
   "language": "python",
   "name": "python3"
  },
  "language_info": {
   "codemirror_mode": {
    "name": "ipython",
    "version": 3
   },
   "file_extension": ".py",
   "mimetype": "text/x-python",
   "name": "python",
   "nbconvert_exporter": "python",
   "pygments_lexer": "ipython3",
   "version": "3.11.9"
  }
 },
 "nbformat": 4,
 "nbformat_minor": 5
}
